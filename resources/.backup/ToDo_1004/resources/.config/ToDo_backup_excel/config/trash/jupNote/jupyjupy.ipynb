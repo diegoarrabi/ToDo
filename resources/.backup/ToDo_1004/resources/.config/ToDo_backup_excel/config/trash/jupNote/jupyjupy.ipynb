{
 "cells": [
  {
   "cell_type": "code",
   "execution_count": 111,
   "metadata": {},
   "outputs": [
    {
     "data": {
      "text/html": [
       "<div>\n",
       "<style scoped>\n",
       "    .dataframe tbody tr th:only-of-type {\n",
       "        vertical-align: middle;\n",
       "    }\n",
       "\n",
       "    .dataframe tbody tr th {\n",
       "        vertical-align: top;\n",
       "    }\n",
       "\n",
       "    .dataframe thead th {\n",
       "        text-align: right;\n",
       "    }\n",
       "</style>\n",
       "<table border=\"1\" class=\"dataframe\">\n",
       "  <thead>\n",
       "    <tr style=\"text-align: right;\">\n",
       "      <th></th>\n",
       "      <th>Col_1</th>\n",
       "      <th>Col_2</th>\n",
       "      <th>Col_3</th>\n",
       "    </tr>\n",
       "  </thead>\n",
       "  <tbody>\n",
       "    <tr>\n",
       "      <th>0</th>\n",
       "      <td>item1</td>\n",
       "      <td>10</td>\n",
       "      <td>meow</td>\n",
       "    </tr>\n",
       "    <tr>\n",
       "      <th>1</th>\n",
       "      <td>item2</td>\n",
       "      <td>25</td>\n",
       "      <td>bark</td>\n",
       "    </tr>\n",
       "  </tbody>\n",
       "</table>\n",
       "</div>"
      ],
      "text/plain": [
       "   Col_1  Col_2 Col_3\n",
       "0  item1     10  meow\n",
       "1  item2     25  bark"
      ]
     },
     "execution_count": 111,
     "metadata": {},
     "output_type": "execute_result"
    }
   ],
   "source": [
    "import pandas as pd\n",
    "import numpy as np\n",
    "import matplotlib as mpl\n",
    "\n",
    "df = pd.DataFrame({\n",
    "    \"Col_1\": [\"item1\", \"item2\"],\n",
    "    \"Col_2\": [10, 25],\n",
    "    \"Col_3\": [\"meow\", \"bark\"]\n",
    "    })\n",
    "df\n"
   ]
  },
  {
   "cell_type": "code",
   "execution_count": 112,
   "metadata": {},
   "outputs": [
    {
     "data": {
      "text/html": [
       "<style type=\"text/css\">\n",
       "</style>\n",
       "<table id=\"T_1a0a5\">\n",
       "  <thead>\n",
       "    <tr>\n",
       "      <th id=\"T_1a0a5_level0_col0\" class=\"col_heading level0 col0\" >COL_1</th>\n",
       "      <th id=\"T_1a0a5_level0_col1\" class=\"col_heading level0 col1\" >COL_2</th>\n",
       "      <th id=\"T_1a0a5_level0_col2\" class=\"col_heading level0 col2\" >COL_3</th>\n",
       "    </tr>\n",
       "  </thead>\n",
       "  <tbody>\n",
       "    <tr>\n",
       "      <td id=\"T_1a0a5_row0_col0\" class=\"data row0 col0\" >item1</td>\n",
       "      <td id=\"T_1a0a5_row0_col1\" class=\"data row0 col1\" >10</td>\n",
       "      <td id=\"T_1a0a5_row0_col2\" class=\"data row0 col2\" >meow</td>\n",
       "    </tr>\n",
       "    <tr>\n",
       "      <td id=\"T_1a0a5_row1_col0\" class=\"data row1 col0\" >item2</td>\n",
       "      <td id=\"T_1a0a5_row1_col1\" class=\"data row1 col1\" >25</td>\n",
       "      <td id=\"T_1a0a5_row1_col2\" class=\"data row1 col2\" >bark</td>\n",
       "    </tr>\n",
       "  </tbody>\n",
       "</table>\n"
      ],
      "text/plain": [
       "<pandas.io.formats.style.Styler at 0x164590970>"
      ]
     },
     "execution_count": 112,
     "metadata": {},
     "output_type": "execute_result"
    }
   ],
   "source": [
    "df.style \\\n",
    "  .format_index(str.upper, axis=1) \\\n",
    "  .hide() \\\n",
    "  "
   ]
  },
  {
   "cell_type": "code",
   "execution_count": 113,
   "metadata": {},
   "outputs": [
    {
     "data": {
      "text/html": [
       "<style type=\"text/css\">\n",
       "#T_fe6ed_row0_col1, #T_fe6ed_row1_col0 {\n",
       "  background-color: yellow;\n",
       "}\n",
       "</style>\n",
       "<table id=\"T_fe6ed\">\n",
       "  <thead>\n",
       "    <tr>\n",
       "      <th class=\"blank level0\" >&nbsp;</th>\n",
       "      <th id=\"T_fe6ed_level0_col0\" class=\"col_heading level0 col0\" >C</th>\n",
       "      <th id=\"T_fe6ed_level0_col1\" class=\"col_heading level0 col1\" >B</th>\n",
       "    </tr>\n",
       "  </thead>\n",
       "  <tbody>\n",
       "    <tr>\n",
       "      <th id=\"T_fe6ed_level0_row0\" class=\"row_heading level0 row0\" >0</th>\n",
       "      <td id=\"T_fe6ed_row0_col0\" class=\"data row0 col0\" >2</td>\n",
       "      <td id=\"T_fe6ed_row0_col1\" class=\"data row0 col1\" >3</td>\n",
       "    </tr>\n",
       "    <tr>\n",
       "      <th id=\"T_fe6ed_level0_row1\" class=\"row_heading level0 row1\" >1</th>\n",
       "      <td id=\"T_fe6ed_row1_col0\" class=\"data row1 col0\" >1</td>\n",
       "      <td id=\"T_fe6ed_row1_col1\" class=\"data row1 col1\" >4</td>\n",
       "    </tr>\n",
       "  </tbody>\n",
       "</table>\n"
      ],
      "text/plain": [
       "<pandas.io.formats.style.Styler at 0x164590c40>"
      ]
     },
     "execution_count": 113,
     "metadata": {},
     "output_type": "execute_result"
    }
   ],
   "source": [
    "df = pd.DataFrame({'C': [2, 1], 'B': [3, 4]})\n",
    "df.style.highlight_min(axis= , color='yellow')"
   ]
  }
 ],
 "metadata": {
  "kernelspec": {
   "display_name": "Python 3",
   "language": "python",
   "name": "python3"
  },
  "language_info": {
   "codemirror_mode": {
    "name": "ipython",
    "version": 3
   },
   "file_extension": ".py",
   "mimetype": "text/x-python",
   "name": "python",
   "nbconvert_exporter": "python",
   "pygments_lexer": "ipython3",
   "version": "3.10.4"
  }
 },
 "nbformat": 4,
 "nbformat_minor": 2
}
